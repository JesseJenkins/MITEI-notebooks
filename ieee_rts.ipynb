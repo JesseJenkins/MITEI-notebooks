{
 "cells": [
  {
   "cell_type": "markdown",
   "metadata": {},
   "source": [
    "# Experimenting with the IEEE RTS\n",
    "\n",
    "This notebook was prepared by Yury Dvorkin and Miles Lubin for the [Grid Science Winter School](http://www.cvent.com/events/grid-science-winter-school-conference/event-summary-229c17f488194f2ebb5b206820974c71.aspx) held in Santa Fe, NM in January 2015. The graph visualization code was derived from work by Jonas Kersulis. This notebook assumes basic familiarity with power systems. See [this notebook](http://nbviewer.ipython.org/github/JuliaOpt/juliaopt-notebooks/blob/master/notebooks/Dvorkin%20-%20Power%20systems%20-%20Economic%20dispatch%20and%20Unit%20commitment.ipynb) for a description of the models used.\n",
    "\n",
    "Note that the GraphViz package does *not* currently work on Windows ([contributions welcome](https://github.com/Keno/GraphViz.jl/issues/12)). We recommend that Windows users access this notebook through [JuliaBox](https://juliabox.org/)."
   ]
  },
  {
   "cell_type": "markdown",
   "metadata": {},
   "source": [
    "## Test system"
   ]
  },
  {
   "cell_type": "markdown",
   "metadata": {},
   "source": [
    "The IEEE RTS system includes 96 generators distributed among 73 buses and connected by 120 lines. The specific characteristics of generators can be found <a href=\"http://www.ee.washington.edu/research/real/Library/Code/input_UC_ii.xlsx\"><u>here</u></a>. See also <a href=\"http://www.ee.washington.edu/research/real/Library/Code/UnitCommitmentunderUncertainty-GAMSModels.pdf\"><u>here<u></a> for more details.\n",
    "\n",
    "We also added 19 wind farms to the IEEE RTS system, which are characterized as follows:\n",
    "<img src=\"http://i62.tinypic.com/23i8d8h.png\">\n",
    "\n",
    "\n",
    "To enlarge the diagram of the IEEE RTS, click on it. \n",
    "<a href=\"http://www.ee.washington.edu/research/real/Library/Data/IEEE-RTS_3_wind_farms.jpg\"><img src=\"http://www.ee.washington.edu/research/real/Library/Data/IEEE-RTS_3_wind_farms.jpg\"></a>"
   ]
  },
  {
   "cell_type": "markdown",
   "metadata": {},
   "source": [
    "## Define packages"
   ]
  },
  {
   "cell_type": "code",
   "execution_count": null,
   "metadata": {
    "collapsed": false
   },
   "outputs": [],
   "source": [
    "using MAT # This package enables reading .mat files\n",
    "using JuMP \n",
    "using Gadfly\n",
    "using Interact"
   ]
  },
  {
   "cell_type": "markdown",
   "metadata": {},
   "source": [
    "## Read data from .mat file"
   ]
  },
  {
   "cell_type": "markdown",
   "metadata": {},
   "source": [
    "For the following experiments we prepare the input file (ieee_test_system.mat) with all input data needed. In the following simulations we demonstrate how these inputs can be imported directly to Julia. "
   ]
  },
  {
   "cell_type": "code",
   "execution_count": null,
   "metadata": {
    "collapsed": false
   },
   "outputs": [],
   "source": [
    "file = matopen(\"ieee_test_system.mat\") # open the .mat file with input data\n",
    "c_g=read(file, \"c_g\") # incremental costs of generators\n",
    "c_g0=read(file, \"c_g0\") # no load costs of generators\n",
    "g_max=read(file, \"g_max\") # maximum power outputs of generators\n",
    "g_min=read(file, \"g_min\") # minimum power outputs of generators\n",
    "g_map=read(file, \"g_map\") # map of generators\n",
    "\n",
    "d=read(file, \"d\") # demand\n",
    "\n",
    "w_f=read(file, \"w_f\") # wind forecasts for each wind farm\n",
    "w_map=read(file, \"w_map\") # map of wind farms\n",
    "\n",
    "f_map=read(file, \"f_map\") # map of transmission lines\n",
    "f_max=read(file, \"f_max\") #maximum power flow limits of transmission lines \n",
    "x=read(file, \"x\") # reactance of transmission lines\n",
    "close(file)\n",
    "\n",
    "N_gen = length (c_g) # number of generators\n",
    "N_bus = length(d) # number of buses\n",
    "N_line = length (f_max) # number of lines\n",
    "N_wind = length (w_f) # number of wind farms\n",
    "\n",
    "\n",
    "c_w = 10 # dispatch cost of wind generation"
   ]
  },
  {
   "cell_type": "markdown",
   "metadata": {},
   "source": [
    "## Economic Dispatch "
   ]
  },
  {
   "cell_type": "markdown",
   "metadata": {},
   "source": [
    "The following cell displays the economic dispatch model:"
   ]
  },
  {
   "cell_type": "code",
   "execution_count": null,
   "metadata": {
    "collapsed": false
   },
   "outputs": [],
   "source": [
    "function solve_ed (g_max, g_min, c_g, c_w, d, w_f)\n",
    "#Define the economic dispatch (ED) model\n",
    "ed=Model() \n",
    "    \n",
    "# Define decision variables    \n",
    "    @defVar(ed, 0 <= g[i=1:N_gen] <= g_max[i]) # power output of generators\n",
    "@defVar(ed, 0 <= w  <= w_f ) # wind power injection\n",
    "\n",
    "# Define the objective function\n",
    "    @setObjective(ed,Min,sum{c_g[i] * g[i],i=1:N_gen}+ c_w * w)\n",
    "\n",
    "# Define the constraint on the maximum and minimum power output of each generator\n",
    "    for i in 1:N_gen\n",
    "    @addConstraint(ed,  g[i] <= g_max[i]) #maximum\n",
    "    @addConstraint(ed,  g[i] >= g_min[i]) #minimum\n",
    "end\n",
    "\n",
    "\n",
    "# Define the constraint on the wind power injection\n",
    "@addConstraint(ed, w <= w_f)\n",
    "\n",
    "# Define the power balance constraint\n",
    "    @addConstraint(ed, sum{g[i],i=1:N_gen} + w == d)\n",
    "\n",
    "# Solve statement\n",
    "solve(ed)\n",
    "    # return the optimal value of the objective function and its minimizers\n",
    "    return getValue(g)[:], getValue(w), w_f-getValue(w), getObjectiveValue(ed)\n",
    "end\n"
   ]
  },
  {
   "cell_type": "markdown",
   "metadata": {},
   "source": [
    "### Cost and generation dispatch as a function of demand"
   ]
  },
  {
   "cell_type": "markdown",
   "metadata": {},
   "source": [
    "We use the IEEE RTS system to observe the impact of demand on the total cost and dispatch of individual generators. It can also be observed that different wind generation conditions affect dispatch of generators, even for a fixed demand value."
   ]
  },
  {
   "cell_type": "code",
   "execution_count": null,
   "metadata": {
    "collapsed": false
   },
   "outputs": [],
   "source": [
    "@manipulate for d = sum(g_min):1:sum(g_max)\n",
    "    g_opt,w_opt,ws_opt,obj = solve_ed (g_max, g_min, c_g, c_w, sum(d), sum(w_f))\n",
    "    \n",
    "   html(\"Total cost, \\$: $obj\")\n",
    "end"
   ]
  },
  {
   "cell_type": "code",
   "execution_count": null,
   "metadata": {
    "collapsed": false
   },
   "outputs": [],
   "source": [
    "@manipulate for d = sum(g_min):1:sum(g_max), w_scale = 0.5:0.01:1.5\n",
    "    g_opt,w_opt,ws_opt,obj = solve_ed (g_max, g_min, c_g, c_w, sum(d), w_scale*sum(w_f))\n",
    "\n",
    "    set_default_plot_size(16cm, 10cm)\n",
    "    \n",
    "    # Plot dispatch of every generator\n",
    "    plot(x=1:1:N_gen,y=[g_opt], Geom.bar,\n",
    "    Guide.XLabel(\"Index of generators \"), Guide.YLabel(\"Dispatch, MW\"))\n",
    "end"
   ]
  },
  {
   "cell_type": "markdown",
   "metadata": {},
   "source": [
    "## Unit Commitment"
   ]
  },
  {
   "cell_type": "markdown",
   "metadata": {},
   "source": [
    "In the following cell we duplicate the UC model presented earlier."
   ]
  },
  {
   "cell_type": "code",
   "execution_count": null,
   "metadata": {
    "collapsed": false
   },
   "outputs": [],
   "source": [
    "function solve_uc (g_max, g_min, c_g, c_w, d, w_f)\n",
    "#Define the unit commitment (UC) model\n",
    "\n",
    "uc=Model() \n",
    "    \n",
    "# Define decision variables    \n",
    "    @defVar(uc, 0 <= g[i=1:N_gen] <= g_max[i]) # power output of generators\n",
    "    @defVar(uc, u[i=1:N_gen], Bin) # Binary status of generators\n",
    "@defVar(uc, 0 <= w  <= w_f ) # wind power injection\n",
    "\n",
    "# Define the objective function\n",
    "    @setObjective(uc,Min,sum{c_g[i] * g[i],i=1:N_gen}+ c_w * w)\n",
    "\n",
    "# Define the constraint on the maximum and minimum power output of each generator\n",
    "for i in 1:N_gen\n",
    "    @addConstraint(uc,  g[i] <= g_max[i] * u[i]) #maximum\n",
    "    @addConstraint(uc,  g[i] >= g_min[i] * u[i]) #minimum\n",
    "end\n",
    "\n",
    "\n",
    "# Define the constraint on the wind power injection\n",
    "@addConstraint(uc, w <= w_f)\n",
    "\n",
    "# Define the power balance constraint\n",
    "    @addConstraint(uc, sum{g[i], i=1:N_gen} + w == d)\n",
    "\n",
    "# Solve statement\n",
    "    status = solve(uc)\n",
    "    \n",
    "    return status, getValue(g)[:], getValue(w), w_f-getValue(w), getValue(u)[:], getObjectiveValue(uc)\n",
    "end"
   ]
  },
  {
   "cell_type": "markdown",
   "metadata": {},
   "source": [
    "### Cost of unit commitment as a function of demand"
   ]
  },
  {
   "cell_type": "markdown",
   "metadata": {},
   "source": [
    "We can now use the manipulator to gradually adjust the demand and observe its impact on the total cost. Note that the UC model results in a more cost-effective solution than the ED model. "
   ]
  },
  {
   "cell_type": "code",
   "execution_count": null,
   "metadata": {
    "collapsed": false
   },
   "outputs": [],
   "source": [
    "@manipulate for d = sum(g_min):1:sum(g_max)\n",
    "    status,g_opt,w_opt,ws_opt,u_opt,obj = solve_uc (g_max, g_min, c_g, c_w, sum(d), sum(w_f));\n",
    "    \n",
    "   html(\"Total cost, \\$: $obj\")\n",
    "end\n"
   ]
  },
  {
   "cell_type": "markdown",
   "metadata": {},
   "source": [
    "### Commitment and dispatch of generators as a function of demand"
   ]
  },
  {
   "cell_type": "markdown",
   "metadata": {},
   "source": [
    "In this experiment, we will adjust the value of demand and wind power forecast to observe their impacts on the commitment and dispatch decisions of generators. Note that these decisions are drastically different from the economic dispatch decisions. "
   ]
  },
  {
   "cell_type": "code",
   "execution_count": null,
   "metadata": {
    "collapsed": false
   },
   "outputs": [],
   "source": [
    "@manipulate for d = sum(g_min):1:sum(g_max), w_scale = 0.5:0.01:1.5\n",
    "    status,g_opt,w_opt,ws_opt,u_opt,obj = solve_uc (g_max, g_min, c_g, c_w, sum(d), w_scale*sum(w_f));\n",
    "\n",
    "    set_default_plot_size(16cm, 20cm)\n",
    "    # Plot dispatch of every generator\n",
    "    vstack(plot(x=1:1:N_gen,y=[g_opt], Geom.bar,\n",
    "    Guide.XLabel(\"Index of generators \"), Guide.YLabel(\"Dispatch, MW\")),\n",
    "    plot(x=1:1:N_gen,y=[u_opt], Geom.bar,\n",
    "    Guide.XLabel(\"Index of generators \"), Guide.YLabel(\"Commitment status\")))\n",
    "    \n",
    "end\n",
    "\n"
   ]
  },
  {
   "cell_type": "markdown",
   "metadata": {},
   "source": [
    "## Optimal Power Flow"
   ]
  },
  {
   "cell_type": "markdown",
   "metadata": {},
   "source": [
    "In the following cell we present the code for the OPF model:"
   ]
  },
  {
   "cell_type": "code",
   "execution_count": null,
   "metadata": {
    "collapsed": false
   },
   "outputs": [],
   "source": [
    "function solve_dcopf (g_max, g_min, c_g, c_w, d, w_f, g_map, f_map, w_map, f_max, x)\n",
    "#Define the optimal power flow (OPF) model\n",
    "\n",
    "opf=Model() \n",
    "    \n",
    "# Define decision variables    \n",
    "@defVar(opf,   g[i=1:N_gen] >= 0 ) ; # power output of generators\n",
    "@defVar(opf, w[v=1:N_wind] >=0 ) ; # wind power injection\n",
    "@defVar(opf, f[l=1:N_line]) ; # power flows \n",
    "@defVar(opf, theta[b=1:N_bus]) ; # bus angle \n",
    "\n",
    "\n",
    "# Define the objective function\n",
    "@setObjective(opf,Min,sum{c_g[i] * g[i],i=1:N_gen} + sum{c_w * w[v],v=1:N_wind});\n",
    "\n",
    "\n",
    "for i in 1:N_gen\n",
    "        @addConstraint(opf,  g[i] <= g_max[i]  ) #maximum\n",
    "        @addConstraint(opf,  g[i] >= g_min[i]  ) #minimum\n",
    "end\n",
    "\n",
    "\n",
    "# Define the constraint on the wind power injections\n",
    "for v in 1:N_wind\n",
    "    @addConstraint(opf,  w[v] <= w_f[v]); \n",
    "end\n",
    "\n",
    "# Define the constraint on the power flows\n",
    "for l in 1:N_line\n",
    "    @addConstraint(opf, f[l] <= f_max[l]); # direct flows\n",
    "    @addConstraint(opf, f[l] >=  -f_max[l]); # reverse flows\n",
    "end\n",
    "\n",
    "# Define the power balance constraint\n",
    "for b in 1:N_bus\n",
    "        @addConstraint(opf, sum{g_map[i,b]* g[i],i=1:N_gen}  + sum{w_map[v,b] * w[v], v=1:N_wind}  + sum{f_map[l,b] * f[l], l=1:N_line}>= d[b]); \n",
    "end\n",
    "\n",
    "# Calculate f[l]\n",
    "for l in 1:N_line\n",
    "    @addConstraint(opf, x[l] * f[l] ==  sum{f_map [l,b] * theta[b], b=1:N_bus})  ; # power flow in every line\n",
    "end\n",
    "\n",
    "# Slack bus \n",
    "    @addConstraint(opf, theta [b=1] == 0)  ; # set the slack bus\n",
    "\n",
    "\n",
    "\n",
    "# Solve statement\n",
    "status = solve(opf)\n",
    "\n",
    "    return status, getObjectiveValue(opf), getValue(g)[:], getValue(f)[:], getValue(w)[:]\n",
    "end"
   ]
  },
  {
   "cell_type": "markdown",
   "metadata": {},
   "source": [
    "### Cost of Optimal Power Flow with variable power flow ratings"
   ]
  },
  {
   "cell_type": "markdown",
   "metadata": {},
   "source": [
    "In the next experiment we use three manipulators, adjusting the power flow limits on transmission lines, demand and wind power generation, to observe their impact on the total cost. "
   ]
  },
  {
   "cell_type": "code",
   "execution_count": null,
   "metadata": {
    "collapsed": false
   },
   "outputs": [],
   "source": [
    "@manipulate for f_scale = 0.4 : 0.01 : 1.0, d_scale = 0.5:0.01:1.5, w_scale = 0.5:0.01:1.0\n",
    "    \n",
    "\n",
    "    status, obj, g_opt, f_opt, w_opt = solve_dcopf(g_max, g_min, c_g, c_w, d_scale*d, w_scale*w_f, g_map, f_map, w_map, f_scale*f_max, x)\n",
    "   \n",
    "    html(\"Total cost, \\$: $obj\")\n",
    "    \n",
    "end"
   ]
  },
  {
   "cell_type": "markdown",
   "metadata": {},
   "source": [
    "### Dispatch decisions in Optimal Power Flow with variable power flow ratings"
   ]
  },
  {
   "cell_type": "markdown",
   "metadata": {},
   "source": [
    "Again, we use three manipulators, adjusting the power flow limits on transmission lines, demand and wind power generation, to observe their impact on the the power flows of transmission lines, dispatch decisions of generators and wind power generation. "
   ]
  },
  {
   "cell_type": "code",
   "execution_count": null,
   "metadata": {
    "collapsed": false
   },
   "outputs": [],
   "source": [
    "@manipulate for f_scale = 0.4 : 0.01 : 1.0, d_scale = 0.5:0.01:1.5, w_scale = 0.5:0.01:1.0\n",
    "    status, obj, g_opt, f_opt, w_opt = solve_dcopf(g_max, g_min, c_g, c_w, d_scale*d, w_scale*w_f, g_map, f_map, w_map, f_scale*f_max, x)\n",
    "   \n",
    "    set_default_plot_size(16cm, 30cm)\n",
    "    # Plot dispatch of every generator\n",
    "    vstack(plot(x=1:N_line,y=[abs(f_opt)], Geom.bar,\n",
    "    Guide.XLabel(\"Index of lines \"), Guide.YLabel(\"Flow, MW\")),\n",
    "    plot(x=1:N_gen,y=[g_opt], Geom.bar,\n",
    "    Guide.XLabel(\"Index of generators \"), Guide.YLabel(\"Dispatch of generators, MW\")),\n",
    "    plot(x=1:N_wind,y=[w_opt], Geom.bar,\n",
    "    Guide.XLabel(\"Index of wind farms \"), Guide.YLabel(\"Dispatch of wind, MW\"))    \n",
    "    )   \n",
    "    \n",
    "\n",
    "\n",
    "end"
   ]
  },
  {
   "cell_type": "markdown",
   "metadata": {},
   "source": [
    "### Interactive visualization of power flows"
   ]
  },
  {
   "cell_type": "markdown",
   "metadata": {},
   "source": [
    "In this section we will show how the power flows can be graphically represented in an interactive fashion. "
   ]
  },
  {
   "cell_type": "code",
   "execution_count": null,
   "metadata": {
    "collapsed": false
   },
   "outputs": [],
   "source": [
    "using GraphViz # package used for drawing graphs\n",
    "\n",
    "function writeDot(name, busIdx, busInj, renGen, f, t, lineFlow, lineLim, size=(11,14))\n",
    "    # This function generates a graph that richly expresses the RTS96 system state.\n",
    "    # name              a name for the graph and resulting dot file\n",
    "    # busIdx            bus names (could be text) in order of busInj\n",
    "    # busInj            injection at each bus\n",
    "    # renGen            renewable generation at each bus (0 for non-wind buses)\n",
    "    # f                 \"from\" node for each line\n",
    "    # t                 \"to\" node for each line\n",
    "    # lineFlow          flow on each line\n",
    "    # lineLim           limit for each line\n",
    "    # size              size of graphical output\n",
    "\n",
    "    busInj = round(busInj,2)\n",
    "    lineFlow = round(lineFlow,2)\n",
    "    \n",
    "    # Open the dot file, overwriting anything already there:\n",
    "    dotfile = IOBuffer()\n",
    "    \n",
    "    # Begin writing the dot file:\n",
    "    write(dotfile, \"digraph $(name) {\\nrankdir=LR;\\n\")\n",
    "\n",
    "    # Set graph properties:\n",
    "    write(dotfile, \n",
    "    \"graph [fontname=helvetica, tooltip=\\\" \\\", overlap=false, size=\\\"$(size[1]),$(size[2])\\\", ratio=fill, orientation=\\\"portrait\\\",layout=dot];\\n\")\n",
    "\n",
    "    # Set default node properties:\n",
    "    write(dotfile, \"node [fontname=helvetica, shape=square, style=filled, fontsize=20, color=\\\"#bdbdbd\\\"];\\n\")\n",
    "\n",
    "    # Set default edge properties:\n",
    "    write(dotfile, \"edge [fontname=helvetica, style=\\\"setlinewidth(5)\\\"];\\n\")\n",
    "\n",
    "    # Write bus data to dot file:\n",
    "    for i = 1:length(busIdx)\n",
    "        write(dotfile, \n",
    "        \"$(i) [label=$(int(busIdx[i])), tooltip=\\\"Inj = $(busInj[i])\\\"\") # bus label and tooltip\n",
    "\n",
    "        # Represent renewable nodes with blue circles:\n",
    "        if union(find(renGen),i) == find(renGen)\n",
    "            write(dotfile, \", shape=circle, color=\\\"#5677fc\\\"\")\n",
    "        end\n",
    "\n",
    "        write(dotfile, \"];\\n\")\n",
    "    end\n",
    "\n",
    "    # Write line data to file:\n",
    "\n",
    "    for i = 1:length(f)\n",
    "\n",
    "        normStrain = abs(lineFlow[i])/lineLim[i] # normalized strain on line i\n",
    "\n",
    "        # Use flow direction to determine arrow direction,\n",
    "        # label with flow,\n",
    "        # and color according to strain\n",
    "        #if lineFlow[i] > 0\n",
    "            write(dotfile, \n",
    "            \"$(f[i]) -> $(t[i]) [label=$(lineFlow[i])\")\n",
    "        #else\n",
    "        #    write(dotfile, \n",
    "        #    \"$(t[i]) -> $(f[i]) [label=$(-lineFlow[i])\")\n",
    "        #end\n",
    "        write(dotfile,\n",
    "        \", tooltip=\\\" \\\", labeltooltip=\\\"Flow = $(int(normStrain*100))%\\\", color=\\\"$(abs(round((1 - normStrain)/3,3))) 1.000 0.700\\\"];\\n\")\n",
    "    end\n",
    "\n",
    "    write(dotfile, \"}\\n\")\n",
    "\n",
    "    dottext = takebuf_string(dotfile)\n",
    "    #print(dottext)\n",
    "\n",
    "    return Graph(dottext)\n",
    "end"
   ]
  },
  {
   "cell_type": "code",
   "execution_count": null,
   "metadata": {
    "collapsed": false
   },
   "outputs": [],
   "source": [
    "# We need to reformat the input data\n",
    "from_node = [find(f_map[i,:] .== 1)[1] for i in 1:size(f_map,1)];\n",
    "to_node = [find(f_map[i,:] .== -1)[1] for i in 1:size(f_map,1)];\n",
    "\n",
    "\n",
    "@manipulate for f_scale = 0.4 : 0.01 : 1.0\n",
    "    status, obj, g_opt, f_opt, w_opt = solve_dcopf(g_max, g_min, c_g, c_w, d, w_f, g_map, f_map, w_map, f_scale*f_max, x)\n",
    "    \n",
    "    wind_bus = zeros(N_bus)\n",
    "    for i in 1:N_wind\n",
    "        wind_idx = find(w_map[i,:] .== 1)[1]\n",
    "        wind_bus[wind_idx] = f_opt[i]\n",
    "    end\n",
    "    \n",
    "    \n",
    "    \n",
    "    writeDot(\"OPF\", [i for i in 1:N_bus], g_opt, wind_bus, from_node, to_node, f_opt, f_scale*f_max, (8,8))\n",
    "\n",
    "end"
   ]
  }
 ],
 "metadata": {
  "kernelspec": {
   "display_name": "Julia 0.3.7-pre",
   "language": "julia",
   "name": "julia 0.3"
  },
  "language_info": {
   "name": "julia",
   "version": "0.3.7"
  }
 },
 "nbformat": 4,
 "nbformat_minor": 0
}
